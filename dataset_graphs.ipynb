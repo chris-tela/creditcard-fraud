{
 "cells": [
  {
   "cell_type": "code",
   "execution_count": 8,
   "metadata": {},
   "outputs": [
    {
     "data": {
      "text/plain": [
       "Text(0, 0.5, 'Count')"
      ]
     },
     "execution_count": 8,
     "metadata": {},
     "output_type": "execute_result"
    },
    {
     "data": {
      "image/png": "[encoded data removed]",
      "text/plain": [
       "<Figure size 640x480 with 1 Axes>"
      ]
     },
     "metadata": {},
     "output_type": "display_data"
    }
   ],
   "source": [
    "# import necessary libraries \n",
    "import numpy as np\n",
    "import pandas as pd \n",
    "\n",
    "import matplotlib.pyplot as plt \n",
    "# %matplotlib inline\n",
    "import seaborn as sns\n",
    "\n",
    "# import dataset\n",
    "creditcard_file = pd.ExcelFile(\"data_UPDATED.csv.xlsx\")\n",
    "trainData = pd.read_excel(creditcard_file, \"train\")\n",
    "\n",
    "# Explore the dataset \n",
    "sns.countplot(x=\"isFraud\", data=trainData)\n",
    "plt.xticks([0,1], labels=[\"Not Fraud\", \"Fraud\"])\n",
    "plt.xlabel(\"Fraud Status\")\n",
    "plt.ylabel(\"Count\")\n",
    "# sns.countplot(x=\"isFraud\", hue=\"category\", data=trainData)\n",
    "# sns.countplot(x=\"isFraud\", hue=\"state\", data=trainData)\n",
    "\n",
    "# plt.hist(trainData[\"amount\"])"
   ]
  },
  {
   "cell_type": "code",
   "execution_count": null,
   "metadata": {},
   "outputs": [],
   "source": []
  },
  {
   "cell_type": "code",
   "execution_count": null,
   "metadata": {},
   "outputs": [],
   "source": []
  },
  {
   "cell_type": "markdown",
   "metadata": {},
   "source": []
  },
  {
   "cell_type": "code",
   "execution_count": null,
   "metadata": {},
   "outputs": [],
   "source": []
  },
  {
   "cell_type": "code",
   "execution_count": null,
   "metadata": {},
   "outputs": [],
   "source": [
    "sns.countplot(x=\"isFraud\", hue=\"gender\", data=trainData)\n",
    "plt.xticks([0,1], labels=[\"Not Fraud\", \"Fraud\"])\n",
    "plt.xlabel(\"Fraud Status\")\n",
    "plt.ylabel(\"Count\")\n",
    "\n",
    "# in the bigger scale of things, more females had a history of no fraud than males "
   ]
  },
  {
   "cell_type": "code",
   "execution_count": null,
   "metadata": {},
   "outputs": [],
   "source": [
    "# sns.countplot(x=\"isFraud\", hue=\"gender\", data=trainData)\n",
    "\n",
    "fraud_data = trainData[trainData[\"isFraud\"] == 1]\n",
    "sns.countplot(x=\"gender\", hue = \"gender\", data = fraud_data)\n",
    "plt.xlabel(\"Gender of those who committed fraud\")\n",
    "plt.ylabel(\"Number of frauds\")\n",
    "plt.figure(figsize=(4,5))\n",
    "plt.show()\n",
    "\n",
    "# however when comparing the number of frauds committed by each gender, females had a slightly higher count of frauds than males \n",
    "# but they were almost equally likely to commit fraud"
   ]
  },
  {
   "cell_type": "code",
   "execution_count": null,
   "metadata": {},
   "outputs": [],
   "source": [
    "sns.countplot(x=\"category\", hue=\"category\", data=fraud_data)\n",
    "plt.xticks(rotation=40)\n",
    "plt.tight_layout()\n",
    "plt.figure(figsize=(4,6))\n",
    "plt.show()\n",
    "\n",
    "# people were more likely to commit fraud by shopping on the internet, the second highest being grocery pos\n",
    "# This correlates with the fact that more women are likely to commit fraud (with the way gender roles are in our society?) "
   ]
  },
  {
   "cell_type": "code",
   "execution_count": null,
   "metadata": {},
   "outputs": [],
   "source": [
    "# sns.countplot(x=\"isFraud\", hue=\"category\", data=fraud_data)\n",
    "\n",
    "# graph of highest appearing names in fraud data set \n",
    "# concatenate first and last names \n",
    "name_counts = fraud_data[\"firstName\"].value_counts()\n",
    "fraud_data[\"fullName\"] = fraud_data[\"firstName\"] + \" \" + fraud_data[\"lastName\"]\n",
    "name_counts = fraud_data[\"fullName\"].value_counts()\n",
    "top_names = name_counts.head(15)\n",
    "plt.figure(figsize=(10,5))\n",
    "sns.barplot(x=top_names.index, y=top_names.values)\n",
    "plt.xlabel('Name')\n",
    "plt.ylabel('Count')\n",
    "plt.title(\"Top 15 Names in Fraud Data\")\n",
    "plt.xticks(rotation = 40)\n",
    "plt.show()"
   ]
  },
  {
   "cell_type": "code",
   "execution_count": null,
   "metadata": {},
   "outputs": [],
   "source": [
    "#graph age groups of individuals who committed fraud \n",
    "import pandas as pd\n",
    "\n",
    "trainData[\"dateOfBirth\"] = pd.to_datetime(trainData[\"dateOfBirth\"])\n",
    "current_date = pd.to_datetime(\"2024-04-06\")\n",
    "trainData[\"age\"] = (current_date - trainData[\"dateOfBirth\"]).astype('<m8[Y]')\n",
    "\n",
    "#Age groups \n",
    "age_bins = [0,18,30,40,50,60,70]\n",
    "age_labels = [\"under 18\", \"18-29\", \"30-39\", \"40-49\", \"50-59\", \"60-70\"]\n",
    "trainData[\"ageGroup\"] = pd.cut(trainData[\"age\"], bins = age_bins, labels = age_labels, right = False)\n",
    "\n",
    "fraud_data = trainData[trainData[\"isFraud\"] == 1]\n",
    "\n",
    "plt.figure(figsize=(10,6))\n",
    "sns.countplot(x=\"ageGroup\", data = fraud_data, order=age_labels)\n",
    "plt.show()\n"
   ]
  },
  {
   "cell_type": "code",
   "execution_count": null,
   "metadata": {},
   "outputs": [],
   "source": [
    "# check to see if the data contains any missing values \n",
    "trainData.isnull().sum()\n",
    "# data does not contain any missing values and does not need to be cleaned"
   ]
  },
  {
   "cell_type": "code",
   "execution_count": 11,
   "metadata": {},
   "outputs": [
    {
     "ename": "TypeError",
     "evalue": "'numpy.float64' object cannot be interpreted as an integer",
     "output_type": "error",
     "traceback": [
      "\u001b[1;31m---------------------------------------------------------------------------\u001b[0m",
      "\u001b[1;31mTypeError\u001b[0m                                 Traceback (most recent call last)",
      "Cell \u001b[1;32mIn[11], line 6\u001b[0m\n\u001b[0;32m      4\u001b[0m data \u001b[38;5;241m=\u001b[39m pd\u001b[38;5;241m.\u001b[39mread_excel(data, \u001b[38;5;124m'\u001b[39m\u001b[38;5;124mtrain\u001b[39m\u001b[38;5;124m'\u001b[39m)\n\u001b[0;32m      5\u001b[0m bins \u001b[38;5;241m=\u001b[39m np\u001b[38;5;241m.\u001b[39marange(\u001b[38;5;241m0\u001b[39m, data[\u001b[38;5;124m'\u001b[39m\u001b[38;5;124mamount\u001b[39m\u001b[38;5;124m'\u001b[39m]\u001b[38;5;241m.\u001b[39mmax() \u001b[38;5;241m+\u001b[39m \u001b[38;5;241m50\u001b[39m, \u001b[38;5;241m50\u001b[39m)\n\u001b[1;32m----> 6\u001b[0m labels \u001b[38;5;241m=\u001b[39m [\u001b[38;5;124mf\u001b[39m\u001b[38;5;124m\"\u001b[39m\u001b[38;5;132;01m{\u001b[39;00mi\u001b[38;5;132;01m}\u001b[39;00m\u001b[38;5;124m-\u001b[39m\u001b[38;5;132;01m{\u001b[39;00mi\u001b[38;5;241m+\u001b[39m\u001b[38;5;241m49\u001b[39m\u001b[38;5;132;01m}\u001b[39;00m\u001b[38;5;124m\"\u001b[39m \u001b[38;5;28;01mfor\u001b[39;00m i \u001b[38;5;129;01min\u001b[39;00m \u001b[38;5;28;43mrange\u001b[39;49m\u001b[43m(\u001b[49m\u001b[38;5;241;43m0\u001b[39;49m\u001b[43m,\u001b[49m\u001b[43m \u001b[49m\u001b[43mdata\u001b[49m\u001b[43m[\u001b[49m\u001b[38;5;124;43m'\u001b[39;49m\u001b[38;5;124;43mamount\u001b[39;49m\u001b[38;5;124;43m'\u001b[39;49m\u001b[43m]\u001b[49m\u001b[38;5;241;43m.\u001b[39;49m\u001b[43mmax\u001b[49m\u001b[43m(\u001b[49m\u001b[43m)\u001b[49m\u001b[43m \u001b[49m\u001b[38;5;241;43m+\u001b[39;49m\u001b[43m \u001b[49m\u001b[38;5;241;43m1\u001b[39;49m\u001b[43m,\u001b[49m\u001b[43m \u001b[49m\u001b[38;5;241;43m50\u001b[39;49m\u001b[43m)\u001b[49m]\n\u001b[0;32m      8\u001b[0m \u001b[38;5;66;03m# Create a new column with the category labels\u001b[39;00m\n\u001b[0;32m      9\u001b[0m data[\u001b[38;5;124m'\u001b[39m\u001b[38;5;124mamount_category\u001b[39m\u001b[38;5;124m'\u001b[39m] \u001b[38;5;241m=\u001b[39m pd\u001b[38;5;241m.\u001b[39mcut(data[\u001b[38;5;124m'\u001b[39m\u001b[38;5;124mamount\u001b[39m\u001b[38;5;124m'\u001b[39m], bins\u001b[38;5;241m=\u001b[39mbins, labels\u001b[38;5;241m=\u001b[39mlabels, include_lowest\u001b[38;5;241m=\u001b[39m\u001b[38;5;28;01mTrue\u001b[39;00m)\n",
      "\u001b[1;31mTypeError\u001b[0m: 'numpy.float64' object cannot be interpreted as an integer"
     ]
    }
   ],
   "source": [
    "# graphing creditCard amount\n",
    "\n",
    "data = pd.ExcelFile('data_UPDATED.csv.xlsx')\n",
    "data = pd.read_excel(data, 'train')\n",
    "bins = np.arange(0, data['amount'].max() + 50, 50)\n",
    "labels = [f\"{i}-{i+49}\" for i in range(0, int(data['amount']).max() + 1, 50)]\n",
    "\n",
    "# Create a new column with the category labels\n",
    "data['amount_category'] = pd.cut(data['amount'], bins=bins, labels=labels, include_lowest=True)\n",
    "\n",
    "# Group the data by amount category and count the number of fraud transactions\n",
    "fraud_counts = data[data['isFraud'] == 1].groupby('amount_category').size()\n",
    "\n",
    "# Plot the graph\n",
    "plt.figure(figsize=(10, 6))\n",
    "plt.bar(fraud_counts.index, fraud_counts.values)\n",
    "plt.xlabel('Amount Category')\n",
    "plt.ylabel('Number of Fraud Transactions')\n",
    "plt.title('Fraud Transactions by Amount Category')\n",
    "plt.xticks(rotation=45)\n",
    "plt.tight_layout()\n",
    "plt.show()\n",
    "\n",
    "\n",
    "\n"
   ]
  }
 ],
 "metadata": {
  "kernelspec": {
   "display_name": "Python 3",
   "language": "python",
   "name": "python3"
  },
  "language_info": {
   "codemirror_mode": {
    "name": "ipython",
    "version": 3
   },
   "file_extension": ".py",
   "mimetype": "text/x-python",
   "name": "python",
   "nbconvert_exporter": "python",
   "pygments_lexer": "ipython3",
   "version": "3.11.5"
  }
 },
 "nbformat": 4,
 "nbformat_minor": 2
}
